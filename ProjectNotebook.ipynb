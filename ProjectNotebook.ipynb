{
 "cells": [
  {
   "cell_type": "markdown",
   "metadata": {},
   "source": [
    "# Project Description"
   ]
  },
  {
   "cell_type": "markdown",
   "metadata": {},
   "source": [
    "Write a brief description of your project here: \n",
    "\n",
    "My project is intended to expand on the functionality of A3- Chatbots using the nltk module. While reading more about NLTK, I found nltk.chat.util, which helps organize the coded questions easier, and make the keywords easier to use. I used inputs from the source code of the chat function, which can be found here https://www.nltk.org/_modules/nltk/chat/util.html.\n",
    "\n"
   ]
  },
  {
   "cell_type": "markdown",
   "metadata": {},
   "source": [
    "## Project Code\n",
    "\n",
    "If it makes sense for your project, you can have code and outputs here in the notebook as well."
   ]
  },
  {
   "cell_type": "code",
   "execution_count": 1,
   "metadata": {},
   "outputs": [],
   "source": [
    "import nltk\n",
    "from nltk.sentiment import SentimentIntensityAnalyzer\n",
    "from nltk.chat.util import Chat, reflections  "
   ]
  },
  {
   "cell_type": "code",
   "execution_count": null,
   "metadata": {},
   "outputs": [
    {
     "name": "stdout",
     "output_type": "stream",
     "text": [
      "Hi, I'm VBot, talk to me all you want\n",
      " Type quit to leave at any time\n"
     ]
    }
   ],
   "source": [
    "# Do a bunch of things.\n",
    "\n",
    "\n",
    "pairs = [\n",
    "#contains question-answer pairs for the chat function to recognize  \n",
    "    \n",
    "    [\n",
    "        r\"what is your name ?\",\n",
    "        [\"You can call me VBot.\",]\n",
    "    ],\n",
    "    [\n",
    "        r\"how are you ?\",\n",
    "        [\"I'm doing good\\nHow about You ?\",] ##sent analyze this\n",
    "    ],\n",
    "    [\n",
    "        r\"sorry(.*)\",\n",
    "        [\"Its alright\",\"Its OK, never mind\",]\n",
    "    ],\n",
    "    [\n",
    "        r\"i'm (.*) doing good\", \n",
    "        [\"Nice to hear that\",\"Alright :)\",]\n",
    "    ],\n",
    "    [\n",
    "        r\"hi|hey|hello\",\n",
    "        [\"Hello\", \"Hey there\",]\n",
    "    ],\n",
    "    [\n",
    "        r\"(.*) (old are you|age)\",\n",
    "        [\"I'm just a couple of days old, and can always be updated.\",]\n",
    "\n",
    "    ],\n",
    "    [\n",
    "        r\"(.*) creat|made\",\n",
    "        [\"I was made by Nikhil Deepak, with inspiration from Assignment 3 and NLTK modules\",]\n",
    "    ],\n",
    "    [\n",
    "        r\"(.*) (location|city) ?\",\n",
    "        ['Somewhere in the clouds above San Diego, California',]\n",
    "    ],\n",
    "    [\n",
    "        r\"(.*) (sport) ?\",\n",
    "        [\"I really like soccer\",]\n",
    "    ],\n",
    "    \n",
    "    [\n",
    "        r\"who(.*) (actor)?\",\n",
    "        [\"I like Henry Cavill\",\"Tough choice, maybe Robert Downey Jr.\"]\n",
    "    ],\n",
    "    [\n",
    "        r\"quit\",\n",
    "        [\"See you\",\"Bye\",\"Have a nice day\"]\n",
    "\n",
    "    ],\n",
    "    [\n",
    "        r\"\",\n",
    "        [\"I didn't quite catch that, can you rephrase it or ask a different question?\"]\n",
    "\n",
    "    ],\n",
    "]\n",
    "\n",
    "def sent(chat_input):\n",
    "    print ('hi')\n",
    "    \n",
    "def vbot():\n",
    "    print(\"Hi, I'm VBot, talk to me all you want\\n Type quit to leave at any time\") #default message at the start\n",
    "    \n",
    "    chat = Chat(pairs, reflections) #reflections changes 'I am' to 'you are' etc.\n",
    "    chat.converse()\n",
    "    if chat.converse.input== \n",
    "\n",
    "if __name__ == \"__main__\":\n",
    "    vbot()\n"
   ]
  },
  {
   "cell_type": "code",
   "execution_count": null,
   "metadata": {},
   "outputs": [],
   "source": [
    "# test it out\n"
   ]
  },
  {
   "cell_type": "markdown",
   "metadata": {},
   "source": [
    "\n",
    "1. My Python Background\n",
    "\n",
    "I took a short online Python course in high school, which had content until the dictionaries part of the course. I also took CS classes in high school, which gave me an understanding of basic programming logic and object-oriented concepts through C++. This course helped me connect my previous programming knowledge with Python syntax, allowing me to code at a basic level.\n",
    "\n",
    "2. How my project went above and beyond the requirements of the project\n",
    "\n",
    "I have previously been interested in natural language processing, which led me to read about NLTK, which seemed relevant to expanding the functionality of a chatbot. I found functions such as chat in NLTK that helped with simplifying the organization of the chatbot."
   ]
  }
 ],
 "metadata": {
  "kernelspec": {
   "display_name": "Python 3",
   "language": "python",
   "name": "python3"
  },
  "language_info": {
   "codemirror_mode": {
    "name": "ipython",
    "version": 3
   },
   "file_extension": ".py",
   "mimetype": "text/x-python",
   "name": "python",
   "nbconvert_exporter": "python",
   "pygments_lexer": "ipython3",
   "version": "3.8.6"
  }
 },
 "nbformat": 4,
 "nbformat_minor": 2
}
