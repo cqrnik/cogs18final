{
 "cells": [
  {
   "cell_type": "markdown",
   "metadata": {},
   "source": [
    "# Project Description"
   ]
  },
  {
   "cell_type": "markdown",
   "metadata": {},
   "source": [
    "Write a brief description of your project here: \n",
    "\n",
    "My project is intended to expand on the functionality of A3- Chatbots using the nltk module. While reading more about NLTK, I found nltk.chat.util, which helps organize the coded questions easier, and make the keywords easier to use. I used inputs from the source code of the chat object, which can be found here https://www.nltk.org/_modules/nltk/chat/util.html. The object works with the key-value pairs in the 'pairs' tuple, which includes  \n",
    "\n",
    "I planned to include a sentiment analysis with the \"How's your day\" question from the bot, and for it to respond accordingly. However, I could not find a way to input it in the code without pasting the entire NLTK chat source code and adding it in the middle. Hence, I added it as a separate part, hopefully I can find a better way to incorporate it into the bot. This section of the code works by checking the value of the compound sentiment found by the NLTK Vader sentiment analysis, and giving different responses based on its value."
   ]
  },
  {
   "cell_type": "markdown",
   "metadata": {},
   "source": [
    "## Project Code\n",
    "\n",
    "If it makes sense for your project, you can have code and outputs here in the notebook as well."
   ]
  },
  {
   "cell_type": "code",
   "execution_count": 1,
   "metadata": {},
   "outputs": [
    {
     "name": "stderr",
     "output_type": "stream",
     "text": [
      "[nltk_data] Downloading package vader_lexicon to\n",
      "[nltk_data]     /home/ndeepak/nltk_data...\n",
      "[nltk_data]   Package vader_lexicon is already up-to-date!\n"
     ]
    },
    {
     "data": {
      "text/plain": [
       "True"
      ]
     },
     "execution_count": 1,
     "metadata": {},
     "output_type": "execute_result"
    }
   ],
   "source": [
    "import nltk\n",
    "from nltk.sentiment import SentimentIntensityAnalyzer\n",
    "from nltk.chat.util import Chat, reflections  \n",
    "nltk.download('vader_lexicon') #required download for sentiment analysis"
   ]
  },
  {
   "cell_type": "code",
   "execution_count": 2,
   "metadata": {},
   "outputs": [
    {
     "name": "stdout",
     "output_type": "stream",
     "text": [
      "Input 1 for chatbot, 2 for sentiment analysis demonstration\n",
      "1\n",
      "Hi, I'm VBot, talk to me all you want\n",
      " Type quit to leave at any time\n",
      ">are you a robot\n",
      "Yes, I'm a robot\n",
      ">cool\n",
      "I didn't quite catch that, can you rephrase it or ask a different question?\n",
      ">hi\n",
      "Hey there\n",
      ">goodbye\n",
      "Bye\n",
      ">quit\n",
      "Have a nice day\n"
     ]
    }
   ],
   "source": [
    "# Do a bunch of things.\n",
    "\n",
    "\n",
    "pairs = [\n",
    "#contains question-answer pairs for the chat object to recognize  \n",
    "    \n",
    "    [\n",
    "        r\"(.*)your name\", #bot name\n",
    "        [\"You can call me VBot.\",]\n",
    "    ],\n",
    "    [\n",
    "        r\"(how are you?|how's it going| sup)\",\n",
    "        [\"I'm doing good\\nHow about You?\",] \n",
    "    ],\n",
    "    \n",
    "    [\n",
    "        r\"hi|hey|hello\",\n",
    "        [\"Hello\", \"Hey there\",\"Hey\",\"Greetings\"]\n",
    "    ],\n",
    "    [\n",
    "        r\"(.*) (old are you|age)\", #bot age\n",
    "        [\"I'm just a couple of days old, and can always be updated.\",]\n",
    "\n",
    "    ],\n",
    "    [\n",
    "        r\"(.*) (robot) ?\", \n",
    "        [\"Yes, I'm a robot\",]\n",
    "    ],\n",
    "    [\n",
    "        r\"(.*) (creat|made)\", #creator\n",
    "        [\"I was made by Nikhil Deepak, with inspiration from Assignment 3 and NLTK modules\",]\n",
    "    ],\n",
    "    [\n",
    "        r\"(.*) (location|city)\", \n",
    "        ['Somewhere in the clouds above San Diego, California',]\n",
    "    ],\n",
    "    [\n",
    "        r\"(.*) (python)\", \n",
    "        ['I love Python!',\"I wouldn't be here without Python\"]\n",
    "    ],\n",
    "    [\n",
    "        r\"(.*) (java|matlab)\", \n",
    "        [\"We don't speak of this here\",]\n",
    "    ],\n",
    "    [\n",
    "        r\"(.*) (joke)\", #picks from two jokes\n",
    "        [\"What's red and smells like blue paint? \\nRed paint\",\"I got an email the other day telling me how to read maps backwards\\nTurns out it was just spam.\"]\n",
    "    ],\n",
    "    [\n",
    "        r\"(.*) (pun)\", #picks from two puns\n",
    "        [\"What did the grape say when it got crushed? Nothing, it just let out a little wine.\",\"I don’t trust stairs because they’re always up to something.\"]\n",
    "    ],\n",
    "    [\n",
    "        r\"(.*) (sport) ?\", \n",
    "        [\"I really like soccer\",]\n",
    "    ],\n",
    "    [\n",
    "        r\"(Thank You|thanks)\", \n",
    "        [\"You're Welcome\",]\n",
    "    ],\n",
    "    [\n",
    "        r\"(.*) (sport) ?\", \n",
    "        [\"I really like soccer\",]\n",
    "    ],\n",
    "    [\n",
    "        r\"who(.*) (actor)?\",\n",
    "        [\"I like Henry Cavill\",\"Tough choice, maybe Robert Downey Jr.\"]\n",
    "    ],\n",
    "    [\n",
    "        r\"(bye|goodbye|see you|cya)\", \n",
    "        [\"See you\",\"Bye\",\"Have a nice day\"]\n",
    "    ],\n",
    "    [\n",
    "        r\"quit\",\n",
    "        [\"See you\",\"Bye\",\"Have a nice day\"]\n",
    "\n",
    "    ],\n",
    "    [\n",
    "        r\"\", #called if none of the above statements are triggered by the bot\n",
    "        [\"I didn't quite catch that, can you rephrase it or ask a different question?\"]\n",
    "\n",
    "    ],\n",
    "]\n",
    "\n",
    "def sent(): #function for sentiment analysis\n",
    "    print (\"How's your day?\")\n",
    "    sent_in=input()\n",
    "    sia=SentimentIntensityAnalyzer()\n",
    "    if (sia.polarity_scores(sent_in)['compound'])>0.35: #high sentiment compound score=positive response\n",
    "        print (\"That's great to hear, hope you're happy!\")\n",
    "    elif (sia.polarity_scores(sent_in)['compound'])<0.35 and (sia.polarity_scores(sent_in)['compound'])>0:\n",
    "        print (\"Alright, I'm having an average day too.\")\n",
    "    elif (sia.polarity_scores(sent_in)['compound'])<0:#low sentiment compound score=negative response\n",
    "        print (\"Aww, hope it gets better soon.\")\n",
    "    \n",
    "    \n",
    "def vbot(): #\n",
    "    print(\"Hi, I'm VBot, talk to me all you want\\n Type quit to leave at any time\") #Chatbot start message\n",
    "    \n",
    "    chat = Chat(pairs, reflections) #reflections changes 'I am' to 'you are' etc.\n",
    "    chat.converse()\n",
    "    \n",
    "\n",
    "    \n",
    "    \n",
    "    \n",
    "print ('Input 1 for chatbot, 2 for sentiment analysis demonstration')\n",
    "choice=input() #choice variable for sentiment or chatbot\n",
    "if int(choice)==1:\n",
    "    vbot() #choice for chatbot\n",
    "elif int(choice)==2:\n",
    "    sent() #choice for sentiment\n",
    "else:\n",
    "    print ('Invalid input')\n",
    "    "
   ]
  },
  {
   "cell_type": "code",
   "execution_count": 3,
   "metadata": {},
   "outputs": [],
   "source": [
    "# test it out\n"
   ]
  },
  {
   "cell_type": "markdown",
   "metadata": {},
   "source": [
    "\n",
    "1. My Python Background\n",
    "\n",
    "I took a short online Python course in high school, which had content until the dictionaries part of the course. I also took CS classes in high school, which gave me an understanding of basic programming logic and object-oriented concepts through C++. This course helped me connect my previous programming knowledge with Python syntax, allowing me to code at a basic level.\n",
    "\n",
    "2. How my project went above and beyond the requirements of the project\n",
    "\n",
    "I have previously been interested in natural language processing, which led me to read about NLTK, which seemed relevant to expanding the functionality of a chatbot. I found functions such as chat in NLTK that helped with simplifying the organization of the chatbot. Sentiment analysis is a concept that I am interested in it, so I found a way to apply it in a way that could help improve the chatbot."
   ]
  }
 ],
 "metadata": {
  "kernelspec": {
   "display_name": "Python 3",
   "language": "python",
   "name": "python3"
  },
  "language_info": {
   "codemirror_mode": {
    "name": "ipython",
    "version": 3
   },
   "file_extension": ".py",
   "mimetype": "text/x-python",
   "name": "python",
   "nbconvert_exporter": "python",
   "pygments_lexer": "ipython3",
   "version": "3.8.6"
  }
 },
 "nbformat": 4,
 "nbformat_minor": 2
}
